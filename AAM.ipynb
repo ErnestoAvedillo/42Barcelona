{
  "nbformat": 4,
  "nbformat_minor": 0,
  "metadata": {
    "colab": {
      "provenance": [],
      "toc_visible": true,
      "authorship_tag": "ABX9TyP/8CUTOq0byF+Ztr1Lepzs",
      "include_colab_link": true
    },
    "kernelspec": {
      "name": "python3",
      "display_name": "Python 3"
    },
    "language_info": {
      "name": "python"
    }
  },
  "cells": [
    {
      "cell_type": "markdown",
      "metadata": {
        "id": "view-in-github",
        "colab_type": "text"
      },
      "source": [
        "<a href=\"https://colab.research.google.com/github/ErnestoAvedillo/42Barcelona/blob/main/AAM.ipynb\" target=\"_parent\"><img src=\"https://colab.research.google.com/assets/colab-badge.svg\" alt=\"Open In Colab\"/></a>"
      ]
    },
    {
      "cell_type": "code",
      "execution_count": 1,
      "metadata": {
        "id": "fFhfTd4HCtR2"
      },
      "outputs": [],
      "source": [
        "import pandas as pd\n",
        "import numpy as np"
      ]
    },
    {
      "cell_type": "markdown",
      "source": [
        "**### Primera parte**\n",
        "\n",
        "Cálculo del coste de las demandas internas.\n",
        "\n",
        "n = nḿero de referencias.\n",
        "\n",
        "REF = diccionario con las referencias de la empresa (TODAS , las de compra , internas  y de producto acabado.)\n",
        "\n",
        "DC = Demanda de cliente\n",
        "\n",
        "BOM = es una tabla de n x n con el BOM de los producto (Todos)"
      ],
      "metadata": {
        "id": "grjRvn1cOzfV"
      }
    },
    {
      "cell_type": "code",
      "source": [
        "#numero de referencias\n",
        "n = 8\n",
        "#BILL OF MATERIALS\n",
        "BOM = np.zeros((n,n))\n",
        "#Diccionario de referencias\n",
        "#REF = {\"1\":0,\"2\":1,\"3\":2,\"4\":3,\"5\":4,\"6\":5,\"7\":6,\"8\":7}\n",
        "REF = {}\n",
        "for i in range(0,n):\n",
        "  num = str(i + 1)\n",
        "  REF[num] = i\n",
        "#Demandas de cliente\n",
        "DC = np.zeros((n,1))"
      ],
      "metadata": {
        "id": "gOWlfBCCLnAG"
      },
      "execution_count": 166,
      "outputs": []
    },
    {
      "cell_type": "markdown",
      "source": [
        "Simulacion de un BOM con dos productos diferentes"
      ],
      "metadata": {
        "id": "Ch2h-ctNPf6e"
      }
    },
    {
      "cell_type": "code",
      "source": [
        "#BOM for product 1\n",
        "BOM[REF[\"5\"],REF[\"3\"]] = 0.5\n",
        "BOM[REF[\"5\"],REF[\"7\"]] = 2\n",
        "BOM[REF[\"7\"],REF[\"1\"]] = 1\n",
        "\n",
        "#BOM for product 2\n",
        "BOM[REF[\"6\"],REF[\"3\"]] = 0.75\n",
        "BOM[REF[\"6\"],REF[\"4\"]] = 1\n",
        "BOM[REF[\"6\"],REF[\"8\"]] = 1\n",
        "BOM[REF[\"8\"],REF[\"2\"]] = 1\n",
        "\n",
        "print(BOM)\n",
        "print(REF)"
      ],
      "metadata": {
        "id": "5eTDgowMFY4b",
        "colab": {
          "base_uri": "https://localhost:8080/"
        },
        "outputId": "4c3161cf-5b1e-4e9f-825d-acb31b7520bf"
      },
      "execution_count": 167,
      "outputs": [
        {
          "output_type": "stream",
          "name": "stdout",
          "text": [
            "[[0.   0.   0.   0.   0.   0.   0.   0.  ]\n",
            " [0.   0.   0.   0.   0.   0.   0.   0.  ]\n",
            " [0.   0.   0.   0.   0.   0.   0.   0.  ]\n",
            " [0.   0.   0.   0.   0.   0.   0.   0.  ]\n",
            " [0.   0.   0.5  0.   0.   0.   2.   0.  ]\n",
            " [0.   0.   0.75 1.   0.   0.   0.   1.  ]\n",
            " [1.   0.   0.   0.   0.   0.   0.   0.  ]\n",
            " [0.   1.   0.   0.   0.   0.   0.   0.  ]]\n",
            "{'1': 0, '2': 1, '3': 2, '4': 3, '5': 4, '6': 5, '7': 6, '8': 7}\n"
          ]
        }
      ]
    },
    {
      "cell_type": "code",
      "source": [
        "#DEMANDAS DE CLIENTE\n",
        "DC[REF[\"5\"]]=7\n",
        "DC[REF[\"6\"]]=10\n",
        "print (DC)"
      ],
      "metadata": {
        "id": "PAOv9mUJICnC",
        "colab": {
          "base_uri": "https://localhost:8080/"
        },
        "outputId": "f840460b-c0b9-4213-ee91-60708fb3e9cd"
      },
      "execution_count": 168,
      "outputs": [
        {
          "output_type": "stream",
          "name": "stdout",
          "text": [
            "[[ 0.]\n",
            " [ 0.]\n",
            " [ 0.]\n",
            " [ 0.]\n",
            " [ 7.]\n",
            " [10.]\n",
            " [ 0.]\n",
            " [ 0.]]\n"
          ]
        }
      ]
    },
    {
      "cell_type": "markdown",
      "source": [
        "Listado de Maquinaria\n",
        "\n",
        "m = número de máquinas\n",
        "\n",
        "DICMAQ = Diccionario de maquinaria (m x 1)\n",
        "\n",
        "BOMMAQ = Listado de maquinaria por referencia (m x n)"
      ],
      "metadata": {
        "id": "rgp-D6lZPnGn"
      }
    },
    {
      "cell_type": "code",
      "source": [
        "m = 3\n",
        "BOMMAQ = np.zeros((m,n))\n",
        "DICMAQ = {\"Compras\":0,\"mecanizado\":1,\"inyeccion\":2}\n",
        "#BOMMAQ[DICMAQ[\"Compras\"],REF[\"1\"]] = 1\n",
        "#BOMMAQ[DICMAQ[\"Compras\"],REF[\"2\"]] = 1\n",
        "#BOMMAQ[DICMAQ[\"Compras\"],REF[\"3\"]] = 1\n",
        "#BOMMAQ[DICMAQ[\"Compras\"],REF[\"4\"]] = 1\n",
        "BOMMAQ[DICMAQ[\"inyeccion\"],REF[\"5\"]] = 1\n",
        "BOMMAQ[DICMAQ[\"inyeccion\"],REF[\"6\"]] = 1\n",
        "BOMMAQ[DICMAQ[\"mecanizado\"],REF[\"7\"]] = 1\n",
        "BOMMAQ[DICMAQ[\"mecanizado\"],REF[\"8\"]] = 1\n",
        "print(BOMMAQ)"
      ],
      "metadata": {
        "colab": {
          "base_uri": "https://localhost:8080/"
        },
        "id": "XObAX3k_P8BL",
        "outputId": "921f8822-0e1c-46d1-df45-91ac1f32a25c"
      },
      "execution_count": 190,
      "outputs": [
        {
          "output_type": "stream",
          "name": "stdout",
          "text": [
            "[[0. 0. 0. 0. 0. 0. 0. 0.]\n",
            " [0. 0. 0. 0. 0. 0. 1. 1.]\n",
            " [0. 0. 0. 0. 1. 1. 0. 0.]]\n"
          ]
        }
      ]
    },
    {
      "cell_type": "code",
      "source": [
        "#Voy incremetnando la matriz de demandas a medida que aumenta el nicel de fabricación\n",
        "index = DC.shape[1]\n",
        "DINT = np.dot(BOM.T, DC[:,index - 1])\n",
        "DINT = np.expand_dims(DINT, axis = 1)\n",
        "while(np.sum(DINT) != 0):\n",
        "  DC = np.concatenate((DC, DINT), axis = 1)\n",
        "  DINT = np.dot(BOM.T, DC[:,DC.shape[1] - 1])\n",
        "  DINT = np.expand_dims(DINT, axis = 1)\n",
        "print(DC)"
      ],
      "metadata": {
        "colab": {
          "base_uri": "https://localhost:8080/"
        },
        "id": "G54Ou6-pPReG",
        "outputId": "ebfb6185-42e0-40ed-a2ff-098d88349443"
      },
      "execution_count": 191,
      "outputs": [
        {
          "output_type": "stream",
          "name": "stdout",
          "text": [
            "[[ 0.  0. 14.]\n",
            " [ 0.  0. 10.]\n",
            " [ 0. 11.  0.]\n",
            " [ 0. 10.  0.]\n",
            " [ 7.  0.  0.]\n",
            " [10.  0.  0.]\n",
            " [ 0. 14.  0.]\n",
            " [ 0. 10.  0.]]\n"
          ]
        }
      ]
    },
    {
      "cell_type": "code",
      "source": [
        "#DINT se corresponde a las demandas internas\n",
        "for i in list(REF):\n",
        "  print(\"Referencia \" ,i, \" Demanda CLIENTE --> \", DC[REF[i],0])\n",
        "for j in range(1, DC.shape[1] - 1):\n",
        "  for i in list(REF):\n",
        "    print(\"Referencia \" ,i, \" Demanda interna nivel \", j, \" --> \", DC[REF[i],j])\n",
        "for i in list(REF):\n",
        "  print(\"Referencia \" ,i, \" Demanda interna (compras) nivel 0 --> \", DC[REF[i],DC.shape[1] - 1])\n"
      ],
      "metadata": {
        "colab": {
          "base_uri": "https://localhost:8080/"
        },
        "id": "0VCvu_EHMY2_",
        "outputId": "0d7c3d2e-ba7a-4dd8-e635-f20c46fe86cf"
      },
      "execution_count": 192,
      "outputs": [
        {
          "output_type": "stream",
          "name": "stdout",
          "text": [
            "Referencia  1  Demanda CLIENTE -->  0.0\n",
            "Referencia  2  Demanda CLIENTE -->  0.0\n",
            "Referencia  3  Demanda CLIENTE -->  0.0\n",
            "Referencia  4  Demanda CLIENTE -->  0.0\n",
            "Referencia  5  Demanda CLIENTE -->  7.0\n",
            "Referencia  6  Demanda CLIENTE -->  10.0\n",
            "Referencia  7  Demanda CLIENTE -->  0.0\n",
            "Referencia  8  Demanda CLIENTE -->  0.0\n",
            "Referencia  1  Demanda interna nivel  1  -->  0.0\n",
            "Referencia  2  Demanda interna nivel  1  -->  0.0\n",
            "Referencia  3  Demanda interna nivel  1  -->  11.0\n",
            "Referencia  4  Demanda interna nivel  1  -->  10.0\n",
            "Referencia  5  Demanda interna nivel  1  -->  0.0\n",
            "Referencia  6  Demanda interna nivel  1  -->  0.0\n",
            "Referencia  7  Demanda interna nivel  1  -->  14.0\n",
            "Referencia  8  Demanda interna nivel  1  -->  10.0\n",
            "Referencia  1  Demanda interna (compras) nivel 0 -->  14.0\n",
            "Referencia  2  Demanda interna (compras) nivel 0 -->  10.0\n",
            "Referencia  3  Demanda interna (compras) nivel 0 -->  0.0\n",
            "Referencia  4  Demanda interna (compras) nivel 0 -->  0.0\n",
            "Referencia  5  Demanda interna (compras) nivel 0 -->  0.0\n",
            "Referencia  6  Demanda interna (compras) nivel 0 -->  0.0\n",
            "Referencia  7  Demanda interna (compras) nivel 0 -->  0.0\n",
            "Referencia  8  Demanda interna (compras) nivel 0 -->  0.0\n"
          ]
        }
      ]
    },
    {
      "cell_type": "markdown",
      "source": [
        "Ahora vamos a buscar el minimo común múltiplo entre las demandas y las piezas por caja\n",
        "Posteriormente calcularemos el tiempo de trabajo necesario para cada un o de los niveles de producción.\n",
        "\n",
        "T =  Tiempos de ciclo (n x 1) (Dato a recibir de cliente)\n",
        "\n",
        "BOX = Piezas por caja (n x 1)"
      ],
      "metadata": {
        "id": "Y7_Bu3OddOwZ"
      }
    },
    {
      "cell_type": "code",
      "source": [
        "#Tiempo de ciclo estimado en los procesos\n",
        "T= np.ones((n, 1))\n",
        "T[REF[\"5\"]] = 120\n",
        "T[REF[\"6\"]] = 135\n",
        "T[REF[\"7\"]] = 90\n",
        "T[REF[\"8\"]] = 80\n",
        "print(T)"
      ],
      "metadata": {
        "colab": {
          "base_uri": "https://localhost:8080/"
        },
        "id": "iJzVgB6J8yQ6",
        "outputId": "cb1562d1-6fcd-435c-ba05-cec7a877c2b0"
      },
      "execution_count": 193,
      "outputs": [
        {
          "output_type": "stream",
          "name": "stdout",
          "text": [
            "[[  1.]\n",
            " [  1.]\n",
            " [  1.]\n",
            " [  1.]\n",
            " [120.]\n",
            " [135.]\n",
            " [ 90.]\n",
            " [ 80.]]\n"
          ]
        }
      ]
    },
    {
      "cell_type": "code",
      "source": [
        "#Estimo las piezs por caja de cada componente\n",
        "import random\n",
        "BOX = np.ones((n,1))\n",
        "for i in range(n):\n",
        "  BOX[i - 1] = random.randrange(5,10)\n",
        "print (BOX)"
      ],
      "metadata": {
        "colab": {
          "base_uri": "https://localhost:8080/"
        },
        "id": "bEvyqBVGWa4h",
        "outputId": "7283a9a7-d3e4-42c7-b99e-3b5ce3bdb87a"
      },
      "execution_count": 194,
      "outputs": [
        {
          "output_type": "stream",
          "name": "stdout",
          "text": [
            "[[8.]\n",
            " [7.]\n",
            " [7.]\n",
            " [5.]\n",
            " [6.]\n",
            " [9.]\n",
            " [6.]\n",
            " [9.]]\n"
          ]
        }
      ]
    },
    {
      "cell_type": "code",
      "source": [
        "#Busco en número de cajas necesario para la produccion\n",
        "mask = np.mod(DC, BOX) > 0\n",
        "ones_array = np.zeros_like(np.mod(DC, BOX))\n",
        "ones_array [mask] = 1\n",
        "DCBOX = np.floor_divide(DC, BOX) +  ones_array\n",
        "print (DCBOX)\n"
      ],
      "metadata": {
        "colab": {
          "base_uri": "https://localhost:8080/"
        },
        "id": "Gnw0NPvGpYiI",
        "outputId": "531a3b39-c0a2-4ec5-95fa-de09f008e8d3"
      },
      "execution_count": 195,
      "outputs": [
        {
          "output_type": "stream",
          "name": "stdout",
          "text": [
            "[[0. 0. 2.]\n",
            " [0. 0. 2.]\n",
            " [0. 2. 0.]\n",
            " [0. 2. 0.]\n",
            " [2. 0. 0.]\n",
            " [2. 0. 0.]\n",
            " [0. 3. 0.]\n",
            " [0. 2. 0.]]\n"
          ]
        }
      ]
    },
    {
      "cell_type": "code",
      "source": [
        "DCHORAS = np.divide(DCBOX,T)\n",
        "print(DCHORAS)"
      ],
      "metadata": {
        "colab": {
          "base_uri": "https://localhost:8080/"
        },
        "id": "ZOlFIdW_8-OL",
        "outputId": "b5ea4c65-82b7-4748-de25-085babc5e53b"
      },
      "execution_count": 196,
      "outputs": [
        {
          "output_type": "stream",
          "name": "stdout",
          "text": [
            "[[0.         0.         2.        ]\n",
            " [0.         0.         2.        ]\n",
            " [0.         2.         0.        ]\n",
            " [0.         2.         0.        ]\n",
            " [0.01666667 0.         0.        ]\n",
            " [0.01481481 0.         0.        ]\n",
            " [0.         0.03333333 0.        ]\n",
            " [0.         0.025      0.        ]]\n"
          ]
        }
      ]
    },
    {
      "cell_type": "markdown",
      "source": [
        "\n",
        "MAQ = is a vector of ONES where there is an operation\n"
      ],
      "metadata": {
        "id": "zH4Ofp7ZNzmn"
      }
    },
    {
      "cell_type": "code",
      "source": [
        "MAQ = np.multiply(np.expand_dims(DCHORAS.sum(axis = 1), axis = 1), BOMMAQ.T)\n",
        "print (MAQ)"
      ],
      "metadata": {
        "colab": {
          "base_uri": "https://localhost:8080/"
        },
        "id": "pNdtk9llT22Y",
        "outputId": "cb1ade58-8eb6-4f4e-956f-b1b475b130a4"
      },
      "execution_count": 198,
      "outputs": [
        {
          "output_type": "stream",
          "name": "stdout",
          "text": [
            "[[0.         0.         0.        ]\n",
            " [0.         0.         0.        ]\n",
            " [0.         0.         0.        ]\n",
            " [0.         0.         0.        ]\n",
            " [0.         0.         0.01666667]\n",
            " [0.         0.         0.01481481]\n",
            " [0.         0.03333333 0.        ]\n",
            " [0.         0.025      0.        ]]\n"
          ]
        }
      ]
    },
    {
      "cell_type": "markdown",
      "source": [
        "Ahora nos centraremso en el cálculo de la mano de obra\n",
        "\n",
        "MAQREF = Vector Maquinas (n x 1)\n",
        "\n",
        "MOM = Coste de la mano de obra Turno de mañana\n",
        "\n",
        "MOT = Coste de la mano de obra Turno de tarde\n",
        "\n",
        "MON = Coste de la mano de obra Turno de noche\n",
        "\n",
        "MHORARIA = MATRIZ Horaria (n x 24)\n",
        "\n",
        "NOP =  Número de operarios (n x 1) (Dato a recibir de cliente)\n",
        "\n",
        "CMOTHORARIO = Coste de mano de obra total (nx24) resultado de MOTURNOS * MOP *T / 3600"
      ],
      "metadata": {
        "id": "BgZJNYeTTxFz"
      }
    },
    {
      "cell_type": "code",
      "source": [
        "MAQREF = np.zeros((n,1))\n",
        "mask = BOMMAQ.sum(axis = 0) > 0\n",
        "MAQREF[mask] = 1\n",
        "print(MAQREF)\n",
        "MHORARIA = np.ones((n,24))\n",
        "MOTURNOS = np.multiply(MHORARIA, MAQREF)\n",
        "print(MOTURNOS)"
      ],
      "metadata": {
        "colab": {
          "base_uri": "https://localhost:8080/"
        },
        "id": "WkuHhYnoVjre",
        "outputId": "cdbad4ae-2036-402c-c8bc-ade07de54581"
      },
      "execution_count": 206,
      "outputs": [
        {
          "output_type": "stream",
          "name": "stdout",
          "text": [
            "[[0.]\n",
            " [0.]\n",
            " [0.]\n",
            " [0.]\n",
            " [1.]\n",
            " [1.]\n",
            " [1.]\n",
            " [1.]]\n",
            "[[0. 0. 0. 0. 0. 0. 0. 0. 0. 0. 0. 0. 0. 0. 0. 0. 0. 0. 0. 0. 0. 0. 0. 0.]\n",
            " [0. 0. 0. 0. 0. 0. 0. 0. 0. 0. 0. 0. 0. 0. 0. 0. 0. 0. 0. 0. 0. 0. 0. 0.]\n",
            " [0. 0. 0. 0. 0. 0. 0. 0. 0. 0. 0. 0. 0. 0. 0. 0. 0. 0. 0. 0. 0. 0. 0. 0.]\n",
            " [0. 0. 0. 0. 0. 0. 0. 0. 0. 0. 0. 0. 0. 0. 0. 0. 0. 0. 0. 0. 0. 0. 0. 0.]\n",
            " [1. 1. 1. 1. 1. 1. 1. 1. 1. 1. 1. 1. 1. 1. 1. 1. 1. 1. 1. 1. 1. 1. 1. 1.]\n",
            " [1. 1. 1. 1. 1. 1. 1. 1. 1. 1. 1. 1. 1. 1. 1. 1. 1. 1. 1. 1. 1. 1. 1. 1.]\n",
            " [1. 1. 1. 1. 1. 1. 1. 1. 1. 1. 1. 1. 1. 1. 1. 1. 1. 1. 1. 1. 1. 1. 1. 1.]\n",
            " [1. 1. 1. 1. 1. 1. 1. 1. 1. 1. 1. 1. 1. 1. 1. 1. 1. 1. 1. 1. 1. 1. 1. 1.]]\n"
          ]
        }
      ]
    },
    {
      "cell_type": "code",
      "source": [
        "MOM = 12\n",
        "MOT = 14\n",
        "MON = 18\n",
        "MOTURNOS [:,0:6] *=  MON\n",
        "MOTURNOS [:,6:14] *=  MOM\n",
        "MOTURNOS [:,14:22] *=  MOT\n",
        "MOTURNOS [:,22:24] *=  MON\n",
        "print(MOTURNOS)"
      ],
      "metadata": {
        "colab": {
          "base_uri": "https://localhost:8080/"
        },
        "id": "Sh40laK5W1i3",
        "outputId": "1a6f0d50-3505-433e-94da-0bfe4ae617c5"
      },
      "execution_count": 207,
      "outputs": [
        {
          "output_type": "stream",
          "name": "stdout",
          "text": [
            "[[ 0.  0.  0.  0.  0.  0.  0.  0.  0.  0.  0.  0.  0.  0.  0.  0.  0.  0.\n",
            "   0.  0.  0.  0.  0.  0.]\n",
            " [ 0.  0.  0.  0.  0.  0.  0.  0.  0.  0.  0.  0.  0.  0.  0.  0.  0.  0.\n",
            "   0.  0.  0.  0.  0.  0.]\n",
            " [ 0.  0.  0.  0.  0.  0.  0.  0.  0.  0.  0.  0.  0.  0.  0.  0.  0.  0.\n",
            "   0.  0.  0.  0.  0.  0.]\n",
            " [ 0.  0.  0.  0.  0.  0.  0.  0.  0.  0.  0.  0.  0.  0.  0.  0.  0.  0.\n",
            "   0.  0.  0.  0.  0.  0.]\n",
            " [18. 18. 18. 18. 18. 18. 12. 12. 12. 12. 12. 12. 12. 12. 14. 14. 14. 14.\n",
            "  14. 14. 14. 14. 18. 18.]\n",
            " [18. 18. 18. 18. 18. 18. 12. 12. 12. 12. 12. 12. 12. 12. 14. 14. 14. 14.\n",
            "  14. 14. 14. 14. 18. 18.]\n",
            " [18. 18. 18. 18. 18. 18. 12. 12. 12. 12. 12. 12. 12. 12. 14. 14. 14. 14.\n",
            "  14. 14. 14. 14. 18. 18.]\n",
            " [18. 18. 18. 18. 18. 18. 12. 12. 12. 12. 12. 12. 12. 12. 14. 14. 14. 14.\n",
            "  14. 14. 14. 14. 18. 18.]]\n"
          ]
        }
      ]
    },
    {
      "cell_type": "code",
      "source": [
        "#Numero de operarios estimado en los procesos\n",
        "NOP= np.copy(MAQREF)\n",
        "NOP[REF[\"5\"]] = 2\n",
        "NOP[REF[\"6\"]] = 3\n",
        "NOP[REF[\"7\"]] = 1\n",
        "NOP[REF[\"8\"]] = 1\n",
        "print(NOP)"
      ],
      "metadata": {
        "colab": {
          "base_uri": "https://localhost:8080/"
        },
        "id": "dBGFZr_HaMzR",
        "outputId": "a3a1916c-c556-4158-e508-b9f2633ebe25"
      },
      "execution_count": 209,
      "outputs": [
        {
          "output_type": "stream",
          "name": "stdout",
          "text": [
            "[[0.]\n",
            " [0.]\n",
            " [0.]\n",
            " [0.]\n",
            " [2.]\n",
            " [3.]\n",
            " [1.]\n",
            " [1.]]\n"
          ]
        }
      ]
    },
    {
      "cell_type": "code",
      "source": [
        "CMOTHORARIO  =np.multiply(MOTURNOS, np.multiply(T,NOP)) / 3600\n",
        "print(CMOTHORARIO)"
      ],
      "metadata": {
        "colab": {
          "base_uri": "https://localhost:8080/"
        },
        "id": "XiJVIasxbHJg",
        "outputId": "66f9b5e1-4985-4400-cbae-95588b3911e7"
      },
      "execution_count": 222,
      "outputs": [
        {
          "output_type": "stream",
          "name": "stdout",
          "text": [
            "[[0.         0.         0.         0.         0.         0.\n",
            "  0.         0.         0.         0.         0.         0.\n",
            "  0.         0.         0.         0.         0.         0.\n",
            "  0.         0.         0.         0.         0.         0.        ]\n",
            " [0.         0.         0.         0.         0.         0.\n",
            "  0.         0.         0.         0.         0.         0.\n",
            "  0.         0.         0.         0.         0.         0.\n",
            "  0.         0.         0.         0.         0.         0.        ]\n",
            " [0.         0.         0.         0.         0.         0.\n",
            "  0.         0.         0.         0.         0.         0.\n",
            "  0.         0.         0.         0.         0.         0.\n",
            "  0.         0.         0.         0.         0.         0.        ]\n",
            " [0.         0.         0.         0.         0.         0.\n",
            "  0.         0.         0.         0.         0.         0.\n",
            "  0.         0.         0.         0.         0.         0.\n",
            "  0.         0.         0.         0.         0.         0.        ]\n",
            " [1.2        1.2        1.2        1.2        1.2        1.2\n",
            "  0.8        0.8        0.8        0.8        0.8        0.8\n",
            "  0.8        0.8        0.93333333 0.93333333 0.93333333 0.93333333\n",
            "  0.93333333 0.93333333 0.93333333 0.93333333 1.2        1.2       ]\n",
            " [2.025      2.025      2.025      2.025      2.025      2.025\n",
            "  1.35       1.35       1.35       1.35       1.35       1.35\n",
            "  1.35       1.35       1.575      1.575      1.575      1.575\n",
            "  1.575      1.575      1.575      1.575      2.025      2.025     ]\n",
            " [0.45       0.45       0.45       0.45       0.45       0.45\n",
            "  0.3        0.3        0.3        0.3        0.3        0.3\n",
            "  0.3        0.3        0.35       0.35       0.35       0.35\n",
            "  0.35       0.35       0.35       0.35       0.45       0.45      ]\n",
            " [0.4        0.4        0.4        0.4        0.4        0.4\n",
            "  0.26666667 0.26666667 0.26666667 0.26666667 0.26666667 0.26666667\n",
            "  0.26666667 0.26666667 0.31111111 0.31111111 0.31111111 0.31111111\n",
            "  0.31111111 0.31111111 0.31111111 0.31111111 0.4        0.4       ]]\n"
          ]
        }
      ]
    },
    {
      "cell_type": "markdown",
      "source": [
        "\n",
        "Ahora nos centraremso en el cálculo de la mano de obra\n",
        "\n",
        "MAQ = Vector Maquinas (n x 1)\n",
        "\n",
        "CMF = Coste máquina fijo (n x 24)\n",
        "\n",
        "CPOT = Tabla de coste de potencias (n x 24)\n",
        "\n",
        "POT = Potencia de Maquinaria (n x 1) KWH\n",
        "\n",
        "CELECM = Coste potencia turno mañana\n",
        "\n",
        "CELECT = coste potencia turno tarde\n",
        "\n",
        "CELECN = Coste potencia turno Noche\n",
        "\n",
        "CMVTURNOS = Coste maquina variable (n x 24))\n",
        "\n",
        "T =  Tiempos de ciclo (n x 1) (Definidos anteriormente)\n",
        "\n",
        "CMQVTHORARIO = Coste de maquina total (nx24) resultado de CMVTURNOS * POT *T / 3600\n",
        "\n",
        "CMTOT = (CMF + CMQVTHORARIO) * T / 3600"
      ],
      "metadata": {
        "id": "3SCFZQDGenMD"
      }
    },
    {
      "cell_type": "code",
      "source": [
        "from genericpath import commonprefix\n",
        "#Coste maquina definido por cliente CMF\n",
        "cmfijo = 5  #5 es un valor estimado\n",
        "CMF = np.ones((n,24))\n",
        "CMF = np.multiply(CMF, MAQREF)\n",
        "CMF = CMF * cmfijo\n",
        "print (CMF)"
      ],
      "metadata": {
        "colab": {
          "base_uri": "https://localhost:8080/"
        },
        "id": "EbiVC5Moenfy",
        "outputId": "2cde8b46-033e-41ab-e26b-a48b31ab7877"
      },
      "execution_count": 223,
      "outputs": [
        {
          "output_type": "stream",
          "name": "stdout",
          "text": [
            "[[0. 0. 0. 0. 0. 0. 0. 0. 0. 0. 0. 0. 0. 0. 0. 0. 0. 0. 0. 0. 0. 0. 0. 0.]\n",
            " [0. 0. 0. 0. 0. 0. 0. 0. 0. 0. 0. 0. 0. 0. 0. 0. 0. 0. 0. 0. 0. 0. 0. 0.]\n",
            " [0. 0. 0. 0. 0. 0. 0. 0. 0. 0. 0. 0. 0. 0. 0. 0. 0. 0. 0. 0. 0. 0. 0. 0.]\n",
            " [0. 0. 0. 0. 0. 0. 0. 0. 0. 0. 0. 0. 0. 0. 0. 0. 0. 0. 0. 0. 0. 0. 0. 0.]\n",
            " [5. 5. 5. 5. 5. 5. 5. 5. 5. 5. 5. 5. 5. 5. 5. 5. 5. 5. 5. 5. 5. 5. 5. 5.]\n",
            " [5. 5. 5. 5. 5. 5. 5. 5. 5. 5. 5. 5. 5. 5. 5. 5. 5. 5. 5. 5. 5. 5. 5. 5.]\n",
            " [5. 5. 5. 5. 5. 5. 5. 5. 5. 5. 5. 5. 5. 5. 5. 5. 5. 5. 5. 5. 5. 5. 5. 5.]\n",
            " [5. 5. 5. 5. 5. 5. 5. 5. 5. 5. 5. 5. 5. 5. 5. 5. 5. 5. 5. 5. 5. 5. 5. 5.]]\n"
          ]
        }
      ]
    },
    {
      "cell_type": "code",
      "source": [
        "#Numero de operarios estimado en los procesos\n",
        "CPOT= np.copy(MAQREF)\n",
        "CPOT[REF[\"5\"]] = 50\n",
        "CPOT[REF[\"6\"]] = 60\n",
        "CPOT[REF[\"7\"]] = 120\n",
        "CPOT[REF[\"8\"]] = 12\n",
        "print(CPOT)"
      ],
      "metadata": {
        "colab": {
          "base_uri": "https://localhost:8080/"
        },
        "id": "zw1B3Bx4gc0k",
        "outputId": "a30b888b-0ea8-4040-8317-d479b9af22f8"
      },
      "execution_count": 224,
      "outputs": [
        {
          "output_type": "stream",
          "name": "stdout",
          "text": [
            "[[  0.]\n",
            " [  0.]\n",
            " [  0.]\n",
            " [  0.]\n",
            " [ 50.]\n",
            " [ 60.]\n",
            " [120.]\n",
            " [ 12.]]\n"
          ]
        }
      ]
    },
    {
      "cell_type": "code",
      "source": [
        "CMTURNOS = np.ones((n,24))\n",
        "CMTURNOS = np.multiply(CMTURNOS, MAQREF)\n",
        "print(CMTURNOS)"
      ],
      "metadata": {
        "colab": {
          "base_uri": "https://localhost:8080/"
        },
        "id": "VuYTEzJkhmrb",
        "outputId": "8b35c70c-0f9f-45ed-c075-b1d0d603ba7e"
      },
      "execution_count": 225,
      "outputs": [
        {
          "output_type": "stream",
          "name": "stdout",
          "text": [
            "[[0. 0. 0. 0. 0. 0. 0. 0. 0. 0. 0. 0. 0. 0. 0. 0. 0. 0. 0. 0. 0. 0. 0. 0.]\n",
            " [0. 0. 0. 0. 0. 0. 0. 0. 0. 0. 0. 0. 0. 0. 0. 0. 0. 0. 0. 0. 0. 0. 0. 0.]\n",
            " [0. 0. 0. 0. 0. 0. 0. 0. 0. 0. 0. 0. 0. 0. 0. 0. 0. 0. 0. 0. 0. 0. 0. 0.]\n",
            " [0. 0. 0. 0. 0. 0. 0. 0. 0. 0. 0. 0. 0. 0. 0. 0. 0. 0. 0. 0. 0. 0. 0. 0.]\n",
            " [1. 1. 1. 1. 1. 1. 1. 1. 1. 1. 1. 1. 1. 1. 1. 1. 1. 1. 1. 1. 1. 1. 1. 1.]\n",
            " [1. 1. 1. 1. 1. 1. 1. 1. 1. 1. 1. 1. 1. 1. 1. 1. 1. 1. 1. 1. 1. 1. 1. 1.]\n",
            " [1. 1. 1. 1. 1. 1. 1. 1. 1. 1. 1. 1. 1. 1. 1. 1. 1. 1. 1. 1. 1. 1. 1. 1.]\n",
            " [1. 1. 1. 1. 1. 1. 1. 1. 1. 1. 1. 1. 1. 1. 1. 1. 1. 1. 1. 1. 1. 1. 1. 1.]]\n"
          ]
        }
      ]
    },
    {
      "cell_type": "code",
      "source": [
        "\n",
        "CELECM = 0.12\n",
        "CELECT = 0.14\n",
        "CELECN = 0.16\n",
        "CMTURNOS [:,0:6] *=  CELECN\n",
        "CMTURNOS [:,6:14] *=  CELECM\n",
        "CMTURNOS [:,14:22] *=  CELECT\n",
        "CMTURNOS [:,22:24] *=  CELECN\n",
        "print(CMTURNOS)"
      ],
      "metadata": {
        "colab": {
          "base_uri": "https://localhost:8080/"
        },
        "id": "R2HmTEIJhd6I",
        "outputId": "bcd65a34-17f4-46eb-8dad-70d41a35aa64"
      },
      "execution_count": 226,
      "outputs": [
        {
          "output_type": "stream",
          "name": "stdout",
          "text": [
            "[[0.   0.   0.   0.   0.   0.   0.   0.   0.   0.   0.   0.   0.   0.\n",
            "  0.   0.   0.   0.   0.   0.   0.   0.   0.   0.  ]\n",
            " [0.   0.   0.   0.   0.   0.   0.   0.   0.   0.   0.   0.   0.   0.\n",
            "  0.   0.   0.   0.   0.   0.   0.   0.   0.   0.  ]\n",
            " [0.   0.   0.   0.   0.   0.   0.   0.   0.   0.   0.   0.   0.   0.\n",
            "  0.   0.   0.   0.   0.   0.   0.   0.   0.   0.  ]\n",
            " [0.   0.   0.   0.   0.   0.   0.   0.   0.   0.   0.   0.   0.   0.\n",
            "  0.   0.   0.   0.   0.   0.   0.   0.   0.   0.  ]\n",
            " [0.16 0.16 0.16 0.16 0.16 0.16 0.12 0.12 0.12 0.12 0.12 0.12 0.12 0.12\n",
            "  0.14 0.14 0.14 0.14 0.14 0.14 0.14 0.14 0.16 0.16]\n",
            " [0.16 0.16 0.16 0.16 0.16 0.16 0.12 0.12 0.12 0.12 0.12 0.12 0.12 0.12\n",
            "  0.14 0.14 0.14 0.14 0.14 0.14 0.14 0.14 0.16 0.16]\n",
            " [0.16 0.16 0.16 0.16 0.16 0.16 0.12 0.12 0.12 0.12 0.12 0.12 0.12 0.12\n",
            "  0.14 0.14 0.14 0.14 0.14 0.14 0.14 0.14 0.16 0.16]\n",
            " [0.16 0.16 0.16 0.16 0.16 0.16 0.12 0.12 0.12 0.12 0.12 0.12 0.12 0.12\n",
            "  0.14 0.14 0.14 0.14 0.14 0.14 0.14 0.14 0.16 0.16]]\n"
          ]
        }
      ]
    },
    {
      "cell_type": "code",
      "source": [
        "CMQVTHORARIO  = np.multiply(CMTURNOS , CPOT)\n",
        "print(CMQVTHORARIO)"
      ],
      "metadata": {
        "colab": {
          "base_uri": "https://localhost:8080/"
        },
        "id": "tiVwHu-BjbAC",
        "outputId": "bcde8788-e8b0-46ae-a50d-2b20180d62da"
      },
      "execution_count": 227,
      "outputs": [
        {
          "output_type": "stream",
          "name": "stdout",
          "text": [
            "[[ 0.    0.    0.    0.    0.    0.    0.    0.    0.    0.    0.    0.\n",
            "   0.    0.    0.    0.    0.    0.    0.    0.    0.    0.    0.    0.  ]\n",
            " [ 0.    0.    0.    0.    0.    0.    0.    0.    0.    0.    0.    0.\n",
            "   0.    0.    0.    0.    0.    0.    0.    0.    0.    0.    0.    0.  ]\n",
            " [ 0.    0.    0.    0.    0.    0.    0.    0.    0.    0.    0.    0.\n",
            "   0.    0.    0.    0.    0.    0.    0.    0.    0.    0.    0.    0.  ]\n",
            " [ 0.    0.    0.    0.    0.    0.    0.    0.    0.    0.    0.    0.\n",
            "   0.    0.    0.    0.    0.    0.    0.    0.    0.    0.    0.    0.  ]\n",
            " [ 8.    8.    8.    8.    8.    8.    6.    6.    6.    6.    6.    6.\n",
            "   6.    6.    7.    7.    7.    7.    7.    7.    7.    7.    8.    8.  ]\n",
            " [ 9.6   9.6   9.6   9.6   9.6   9.6   7.2   7.2   7.2   7.2   7.2   7.2\n",
            "   7.2   7.2   8.4   8.4   8.4   8.4   8.4   8.4   8.4   8.4   9.6   9.6 ]\n",
            " [19.2  19.2  19.2  19.2  19.2  19.2  14.4  14.4  14.4  14.4  14.4  14.4\n",
            "  14.4  14.4  16.8  16.8  16.8  16.8  16.8  16.8  16.8  16.8  19.2  19.2 ]\n",
            " [ 1.92  1.92  1.92  1.92  1.92  1.92  1.44  1.44  1.44  1.44  1.44  1.44\n",
            "   1.44  1.44  1.68  1.68  1.68  1.68  1.68  1.68  1.68  1.68  1.92  1.92]]\n"
          ]
        }
      ]
    },
    {
      "cell_type": "code",
      "source": [
        "CMTOT = np.multiply((CMF + CMQVTHORARIO), T) / 3600\n",
        "print (CMTOT)"
      ],
      "metadata": {
        "colab": {
          "base_uri": "https://localhost:8080/"
        },
        "id": "KWnUblwSjufv",
        "outputId": "c6d96e59-b95e-412a-9497-4cb1ecfdba39"
      },
      "execution_count": 228,
      "outputs": [
        {
          "output_type": "stream",
          "name": "stdout",
          "text": [
            "[[0.         0.         0.         0.         0.         0.\n",
            "  0.         0.         0.         0.         0.         0.\n",
            "  0.         0.         0.         0.         0.         0.\n",
            "  0.         0.         0.         0.         0.         0.        ]\n",
            " [0.         0.         0.         0.         0.         0.\n",
            "  0.         0.         0.         0.         0.         0.\n",
            "  0.         0.         0.         0.         0.         0.\n",
            "  0.         0.         0.         0.         0.         0.        ]\n",
            " [0.         0.         0.         0.         0.         0.\n",
            "  0.         0.         0.         0.         0.         0.\n",
            "  0.         0.         0.         0.         0.         0.\n",
            "  0.         0.         0.         0.         0.         0.        ]\n",
            " [0.         0.         0.         0.         0.         0.\n",
            "  0.         0.         0.         0.         0.         0.\n",
            "  0.         0.         0.         0.         0.         0.\n",
            "  0.         0.         0.         0.         0.         0.        ]\n",
            " [0.43333333 0.43333333 0.43333333 0.43333333 0.43333333 0.43333333\n",
            "  0.36666667 0.36666667 0.36666667 0.36666667 0.36666667 0.36666667\n",
            "  0.36666667 0.36666667 0.4        0.4        0.4        0.4\n",
            "  0.4        0.4        0.4        0.4        0.43333333 0.43333333]\n",
            " [0.5475     0.5475     0.5475     0.5475     0.5475     0.5475\n",
            "  0.4575     0.4575     0.4575     0.4575     0.4575     0.4575\n",
            "  0.4575     0.4575     0.5025     0.5025     0.5025     0.5025\n",
            "  0.5025     0.5025     0.5025     0.5025     0.5475     0.5475    ]\n",
            " [0.605      0.605      0.605      0.605      0.605      0.605\n",
            "  0.485      0.485      0.485      0.485      0.485      0.485\n",
            "  0.485      0.485      0.545      0.545      0.545      0.545\n",
            "  0.545      0.545      0.545      0.545      0.605      0.605     ]\n",
            " [0.15377778 0.15377778 0.15377778 0.15377778 0.15377778 0.15377778\n",
            "  0.14311111 0.14311111 0.14311111 0.14311111 0.14311111 0.14311111\n",
            "  0.14311111 0.14311111 0.14844444 0.14844444 0.14844444 0.14844444\n",
            "  0.14844444 0.14844444 0.14844444 0.14844444 0.15377778 0.15377778]]\n"
          ]
        }
      ]
    },
    {
      "cell_type": "markdown",
      "source": [
        "El coste total es el resultado de sumar el coste máquina y el de operario\n",
        "CTOTHORARIO"
      ],
      "metadata": {
        "id": "MFMXrwHPl52f"
      }
    },
    {
      "cell_type": "code",
      "source": [
        "CTOTHORARIO = CMOTHORARIO + CMTOT\n",
        "print (CTOTHORARIO)"
      ],
      "metadata": {
        "colab": {
          "base_uri": "https://localhost:8080/"
        },
        "id": "4d5U4LTHkvY_",
        "outputId": "d8cf034f-0178-494c-ebaf-ea02dabc373d"
      },
      "execution_count": 229,
      "outputs": [
        {
          "output_type": "stream",
          "name": "stdout",
          "text": [
            "[[0.         0.         0.         0.         0.         0.\n",
            "  0.         0.         0.         0.         0.         0.\n",
            "  0.         0.         0.         0.         0.         0.\n",
            "  0.         0.         0.         0.         0.         0.        ]\n",
            " [0.         0.         0.         0.         0.         0.\n",
            "  0.         0.         0.         0.         0.         0.\n",
            "  0.         0.         0.         0.         0.         0.\n",
            "  0.         0.         0.         0.         0.         0.        ]\n",
            " [0.         0.         0.         0.         0.         0.\n",
            "  0.         0.         0.         0.         0.         0.\n",
            "  0.         0.         0.         0.         0.         0.\n",
            "  0.         0.         0.         0.         0.         0.        ]\n",
            " [0.         0.         0.         0.         0.         0.\n",
            "  0.         0.         0.         0.         0.         0.\n",
            "  0.         0.         0.         0.         0.         0.\n",
            "  0.         0.         0.         0.         0.         0.        ]\n",
            " [1.63333333 1.63333333 1.63333333 1.63333333 1.63333333 1.63333333\n",
            "  1.16666667 1.16666667 1.16666667 1.16666667 1.16666667 1.16666667\n",
            "  1.16666667 1.16666667 1.33333333 1.33333333 1.33333333 1.33333333\n",
            "  1.33333333 1.33333333 1.33333333 1.33333333 1.63333333 1.63333333]\n",
            " [2.5725     2.5725     2.5725     2.5725     2.5725     2.5725\n",
            "  1.8075     1.8075     1.8075     1.8075     1.8075     1.8075\n",
            "  1.8075     1.8075     2.0775     2.0775     2.0775     2.0775\n",
            "  2.0775     2.0775     2.0775     2.0775     2.5725     2.5725    ]\n",
            " [1.055      1.055      1.055      1.055      1.055      1.055\n",
            "  0.785      0.785      0.785      0.785      0.785      0.785\n",
            "  0.785      0.785      0.895      0.895      0.895      0.895\n",
            "  0.895      0.895      0.895      0.895      1.055      1.055     ]\n",
            " [0.55377778 0.55377778 0.55377778 0.55377778 0.55377778 0.55377778\n",
            "  0.40977778 0.40977778 0.40977778 0.40977778 0.40977778 0.40977778\n",
            "  0.40977778 0.40977778 0.45955556 0.45955556 0.45955556 0.45955556\n",
            "  0.45955556 0.45955556 0.45955556 0.45955556 0.55377778 0.55377778]]\n"
          ]
        }
      ]
    },
    {
      "cell_type": "code",
      "source": [],
      "metadata": {
        "id": "twTL-lb8mmY4"
      },
      "execution_count": null,
      "outputs": []
    }
  ]
}